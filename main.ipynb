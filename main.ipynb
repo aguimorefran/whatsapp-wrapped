{
 "cells": [
  {
   "attachments": {},
   "cell_type": "markdown",
   "metadata": {},
   "source": [
    "# AFIT Wrapped 2022"
   ]
  },
  {
   "cell_type": "code",
   "execution_count": 9,
   "metadata": {},
   "outputs": [],
   "source": [
    "# Import convo.txt. It is a whatsapp chat history in spanish\n",
    "# Import libraries\n",
    "import pandas as pd\n",
    "import matplotlib.pyplot as plt\n",
    "import numpy as np\n",
    "import re\n",
    "import tqdm\n",
    "\n",
    "from IPython.display import Markdown as md\n"
   ]
  },
  {
   "cell_type": "code",
   "execution_count": null,
   "metadata": {},
   "outputs": [],
   "source": [
    "\n",
    "df['date'] = pd.to_datetime(df['date'], format='%d/%m/%Y', errors='coerce')\n",
    "df['hour'] = df['date'].dt.hour\n",
    "df['day'] = df['date'].dt.day\n",
    "df['month'] = df['date'].dt.month\n",
    "df['year'] = df['date'].dt.year\n",
    "df['weekday_name'] = df['date'].dt.day_name()\n",
    "df['week_number'] = df['date'].dt.isocalendar().week\n",
    "df['weekday_name'] = df['weekday_name'].replace({'Monday': 'Lunes', 'Tuesday': 'Martes', 'Wednesday': 'Miércoles', 'Thursday': 'Jueves', 'Friday': 'Viernes', 'Saturday': 'Sábado', 'Sunday': 'Domingo'})"
   ]
  },
  {
   "cell_type": "code",
   "execution_count": null,
   "metadata": {},
   "outputs": [],
   "source": [
    "users = df['username'].unique()"
   ]
  },
  {
   "cell_type": "code",
   "execution_count": null,
   "metadata": {},
   "outputs": [],
   "source": [
    "# First day of the chat and last day of the chat\n",
    "first_day = df['date'].min().strftime('%d/%m/%Y')\n",
    "last_day = df['date'].max().strftime('%d/%m/%Y')\n",
    "\n",
    "md(f\"Hemos recogido todos los mensajes comprendidos entre el {first_day} y el {last_day}. Por motivos de WhatsApp, no podemos acceder a los mensajes anteriores a esa fecha.\")"
   ]
  },
  {
   "attachments": {},
   "cell_type": "markdown",
   "metadata": {},
   "source": [
    "## Mirando un poco por encima..."
   ]
  },
  {
   "cell_type": "code",
   "execution_count": null,
   "metadata": {},
   "outputs": [],
   "source": [
    "# Bar plot of words per day. Only the bars, no data.\n",
    "df['word_count'] = df['message'].str.split().str.len()\n",
    "x = df['date'].dt.date.value_counts().sort_index().index\n",
    "y = df['date'].dt.date.value_counts().sort_index().values\n",
    "roll7 = np.convolve(y, np.ones(7)/7, mode='valid')\n",
    "roll30 = np.convolve(y, np.ones(30)/30, mode='valid')\n",
    "\n",
    "# Date ticks only one per month\n",
    "ax = df['date'].dt.date.value_counts().sort_index().plot(kind='bar', figsize=(15, 5), color='orange', alpha=0.5, width=0.75)\n",
    "ax.set_xticks(range(0, len(x), 30))\n",
    "ax.set_xticklabels(x[::30], rotation=45)\n",
    "\n",
    "# Add rolling average of 7 days and 30 days\n",
    "plt.plot(range(3, len(x)-3), roll7, color='red', linewidth=1.5, alpha=0.8)\n",
    "# Remove one element from the rolling average of 30 days to match the length of the rolling average of 7 days\n",
    "plt.plot(range(15, len(x)-15), roll30[:-1], color='blue', linewidth=1.5, alpha=0.8)\n",
    "\n",
    "# Legend of rolling average\n",
    "plt.legend(['Media móvil de 7 días', 'Media móvil de 30 días'])\n",
    "\n",
    "plt.title('Palabras por día')\n",
    "plt.show()"
   ]
  },
  {
   "attachments": {},
   "cell_type": "markdown",
   "metadata": {},
   "source": [
    "## ¿Cuántos mensajes ha enviado cada uno?"
   ]
  },
  {
   "cell_type": "code",
   "execution_count": null,
   "metadata": {},
   "outputs": [],
   "source": [
    "# Number of messages per user and its percentage\n",
    "x = df.groupby('username')['message'].count().reset_index()\n",
    "x['percentage'] = x['message'] / x['message'].sum() * 100\n",
    "x = x.sort_values(by='message', ascending=False)\n",
    "x = x.reset_index(drop=True)\n",
    "x['message'] = x['message'].astype(int)\n",
    "x['percentage'] = x['percentage'].round(2)\n",
    "\n",
    "# Pie chart\n",
    "# Label is the username, new line and its percentage new line and number of messages\n",
    "labels = x['username'] + '\\n' + x['message'].astype(str) + ' mensajes'\n",
    "sizes = x['percentage']\n",
    "\n",
    "fig1, ax1 = plt.subplots()\n",
    "colors = ['#BF61C4BF', '#FFA07ABF']\n",
    "# Colors are orange and blue at .7 opacity\n",
    "ax1.pie(sizes, labels=labels, autopct='%1.1f%%', startangle=90, colors=colors, wedgeprops={'edgecolor': 'black'})\n",
    "ax1.axis('equal')  # Equal aspect ratio ensures that pie is drawn as a circle.\n",
    "\n",
    "plt.show()\n"
   ]
  },
  {
   "cell_type": "code",
   "execution_count": null,
   "metadata": {},
   "outputs": [],
   "source": [
    "# Md total de mensajes enviados\n",
    "# Mean of messages per day\n",
    "avg_msgs_per_day = df['date'].dt.date.value_counts().mean()\n",
    "md(f\"En total, se han enviado {x['message'].sum()} mensajes. El que más mensajes ha enviado es {x['username'][0]} con un {x['percentage'][0]}% de los mensajes totales, mientras que {x['username'][len(x)-1]}, ha enviado un {x['percentage'][len(x)-1]}% de los mensajes totales. De media, se envían {avg_msgs_per_day:.2f} mensajes por día.\")"
   ]
  },
  {
   "attachments": {},
   "cell_type": "markdown",
   "metadata": {},
   "source": [
    "## ¿Y cuántas palabras ha escrito cada uno?"
   ]
  },
  {
   "cell_type": "code",
   "execution_count": null,
   "metadata": {},
   "outputs": [],
   "source": [
    "# Count number of words per message\n",
    "x = df.groupby('username')['word_count'].sum().reset_index()\n",
    "x['percentage'] = x['word_count'] / x['word_count'].sum() * 100\n",
    "x = x.sort_values(by='word_count', ascending=False)\n",
    "x = x.reset_index(drop=True)\n",
    "x['word_count'] = x['word_count'].astype(int)\n",
    "x['percentage'] = x['percentage'].round(2)\n",
    "\n",
    "labels = x['username'] + '\\n' + x['word_count'].astype(str) + ' palabras'\n",
    "sizes = x['percentage']\n",
    "\n",
    "fig1, ax1 = plt.subplots()\n",
    "colors = ['#BF61C4BF', '#FFA07ABF']\n",
    "ax1.pie(sizes, labels=labels, autopct='%1.1f%%', startangle=90, colors=colors, wedgeprops={'edgecolor': 'black'})\n",
    "ax1.axis('equal')  # Equal aspect ratio ensures that pie is drawn as a circle.\n",
    "\n",
    "plt.show()\n"
   ]
  },
  {
   "cell_type": "code",
   "execution_count": null,
   "metadata": {},
   "outputs": [],
   "source": [
    "# Media de palabras por mensaje por usuario\n",
    "x = df.groupby('username')['word_count'].mean().reset_index()\n",
    "x['word_count'] = x['word_count'].round(2)\n",
    "x = x.sort_values(by='word_count', ascending=False)\n",
    "x = x.reset_index(drop=True)\n",
    "\n",
    "# Bar chart. Default bar chart\n",
    "ax = x.plot.bar(x='username', y='word_count', rot=0, color=colors, edgecolor='black')\n",
    "ax.set_xlabel(None)\n",
    "ax.legend().set_visible(False)\n",
    "ax.set_title(\"Media de palabras por mensaje por usuario\", loc='center', pad=20)\n",
    "# Print horizontal lines at each tick\n",
    "ax.yaxis.grid(True, linestyle='-', which='major', color='lightgrey', alpha=0.5)\n",
    "\n",
    "plt.show()\n"
   ]
  },
  {
   "attachments": {},
   "cell_type": "markdown",
   "metadata": {},
   "source": [
    "## ¿Cuántos mensajes seguidos enviamos cada uno?"
   ]
  },
  {
   "cell_type": "code",
   "execution_count": null,
   "metadata": {},
   "outputs": [],
   "source": [
    "# Get the \"clusters\" of messages sent continuously by the same user\n",
    "# Traverse the dataframe and check if the next message is from the same user\n",
    "# Create a dict of the form {username: {cluster_number: [length_of_msg1, length_of_msg2, ...]}}\n",
    "\n",
    "clusters = {}\n",
    "for i in range(len(df)-1):\n",
    "    if df['username'][i] == df['username'][i+1]:\n",
    "        if df['username'][i] in clusters:\n",
    "            if 'cluster' in clusters[df['username'][i]]:\n",
    "                clusters[df['username'][i]]['cluster'] += 1\n",
    "                clusters[df['username'][i]][clusters[df['username'][i]]['cluster']] = [df['word_count'][i]]\n",
    "            else:\n",
    "                clusters[df['username'][i]]['cluster'] = 1\n",
    "                clusters[df['username'][i]][clusters[df['username'][i]]['cluster']] = [df['word_count'][i]]\n",
    "        else:\n",
    "            clusters[df['username'][i]] = {}\n",
    "            clusters[df['username'][i]]['cluster'] = 1\n",
    "            clusters[df['username'][i]][clusters[df['username'][i]]['cluster']] = [df['word_count'][i]]\n",
    "    else:\n",
    "        if df['username'][i] in clusters:\n",
    "            if 'cluster' in clusters[df['username'][i]]:\n",
    "                clusters[df['username'][i]][clusters[df['username'][i]]['cluster']].append(df['word_count'][i])\n",
    "            else:\n",
    "                clusters[df['username'][i]]['cluster'] = 1\n",
    "                clusters[df['username'][i]][clusters[df['username'][i]]['cluster']] = [df['word_count'][i]]\n",
    "        else:\n",
    "            clusters[df['username'][i]] = {}\n",
    "            clusters[df['username'][i]]['cluster'] = 1\n",
    "            clusters[df['username'][i]][clusters[df['username'][i]]['cluster']] = [df['word_count'][i]]\n"
   ]
  },
  {
   "cell_type": "code",
   "execution_count": null,
   "metadata": {},
   "outputs": [],
   "source": [
    "# Size of the clusters\n",
    "cluster_sizes = {}\n",
    "\n",
    "for user in clusters:\n",
    "    cluster_sizes[user] = {}\n",
    "    for cluster in clusters[user]:\n",
    "        if cluster != 'cluster':\n",
    "            cluster_sizes[user][cluster] = len(clusters[user][cluster])\n"
   ]
  },
  {
   "attachments": {},
   "cell_type": "markdown",
   "metadata": {},
   "source": [
    "Un cluster es un grupo o conjunto de elementos que tienen alguna característica en común. En este caso, los clusters que se han creado son conjuntos de mensajes que han sido enviados de forma consecutiva por el mismo usuario. Por ejemplo, si un usuario envía tres mensajes seguidos, estos tres mensajes forman parte del mismo cluster.\n",
    "\n",
    "Como vemos, ambos somos iguales en este sentido."
   ]
  },
  {
   "cell_type": "code",
   "execution_count": null,
   "metadata": {},
   "outputs": [],
   "source": [
    "# Plot histogram of cluster sizes. Add ticks for each bar.\n",
    "# Add a mean line\n",
    "\n",
    "fig, axes = plt.subplots(nrows=1, ncols=2, figsize=(15, 5))\n",
    "\n",
    "for i, user in enumerate(users):\n",
    "    ax = axes[i]\n",
    "    ax.hist(cluster_sizes[user].values(), bins=range(1, 10), edgecolor='black', color=colors[i], width=0.5, log=True)\n",
    "    ax.set_xticks(range(1, 10))\n",
    "    ax.set_title(f\"Clusters de mensajes continuos de {user}\", loc='center', pad=20)\n",
    "    ax.set_xlabel(\"Tamaño del cluster\")\n",
    "    ax.set_ylabel(\"Número de clusters\")\n",
    "    ax.grid(True, linestyle='-', which='major', color='lightgrey', alpha=0.5)\n",
    "\n",
    "    mean = np.mean(list(cluster_sizes[user].values()))\n",
    "    ax.axvline(mean, color='red', linestyle='dashed', linewidth=1)\n",
    "    # Print the mean in the legend\n",
    "    ax.legend([f\"Media: {mean:.2f}\"], loc='upper right')\n",
    "    \n",
    "\n",
    "\n",
    "plt.show()"
   ]
  },
  {
   "attachments": {},
   "cell_type": "markdown",
   "metadata": {},
   "source": [
    "## ¿Cuánto hablamos...."
   ]
  },
  {
   "attachments": {},
   "cell_type": "markdown",
   "metadata": {},
   "source": [
    "### ...por día?"
   ]
  },
  {
   "cell_type": "code",
   "execution_count": null,
   "metadata": {},
   "outputs": [],
   "source": [
    "# Number of messages per day of the week per user\n",
    "x = df.groupby(['username', 'weekday_name'])['message'].count().reset_index()\n",
    "x = x.pivot(index='weekday_name', columns='username', values='message')\n",
    "# Order days of the week\n",
    "x = x.reindex(['Lunes', 'Martes', 'Miércoles', 'Jueves', 'Viernes', 'Sábado', 'Domingo'])\n",
    "\n",
    "# Bar chart. Default bar chart\n",
    "ax = x.plot.bar(rot=0, color=colors, edgecolor='black', figsize=(10, 5))\n",
    "ax.set_xlabel(None)\n",
    "ax.set_title(\"Número de mensajes por día de la semana por usuario\", loc='center', pad=20)\n",
    "ax.yaxis.grid(True, linestyle='-', which='major', color='lightgrey', alpha=0.5)\n",
    "# Remove title of legend\n",
    "ax.legend().set_title(None)\n",
    "\n",
    "plt.show()\n"
   ]
  },
  {
   "attachments": {},
   "cell_type": "markdown",
   "metadata": {},
   "source": [
    "### ...y por hora?"
   ]
  },
  {
   "cell_type": "code",
   "execution_count": null,
   "metadata": {},
   "outputs": [],
   "source": [
    "# Per hour of the day\n",
    "x = df.groupby(['username', 'hour'])['message'].count().reset_index()\n",
    "x = x.pivot(index='hour', columns='username', values='message')\n",
    "# Order hours of the day\n",
    "x = x.reindex(range(0, 24))\n",
    "# Translated days of the week\n",
    "x.index = range(0, 24)\n",
    "\n",
    "# Bar chart. Default bar chart. Big plot\n",
    "ax = x.plot.bar(rot=0, color=colors, edgecolor='black', figsize=(15, 5))\n",
    "ax.set_xlabel(None)\n",
    "ax.set_title(\"Número de mensajes por hora del día por usuario\", loc='center', pad=20)\n",
    "ax.yaxis.grid(True, linestyle='-', which='major', color='lightgrey', alpha=0.5)\n",
    "# Remove title of legend\n",
    "ax.legend().set_title(None)\n",
    "\n",
    "plt.show()\n"
   ]
  },
  {
   "attachments": {},
   "cell_type": "markdown",
   "metadata": {},
   "source": [
    "## ¿Cuánto tardamos en responder?"
   ]
  },
  {
   "cell_type": "code",
   "execution_count": null,
   "metadata": {},
   "outputs": [],
   "source": [
    "# Create a column of diff time between messages. Between message n and n-1\n",
    "df['response_time'] = df['date'].diff().dt.total_seconds()/3600\n",
    "\n",
    "# Create a column with the previous username\n",
    "df['prev_username'] = df['username'].shift(1)\n",
    "\n",
    "# Filter the rows where the previous username is different from the current one\n",
    "df_filtered = df[df['prev_username'] != df['username']]\n",
    "\n",
    "# Get the response time for each user. Save the array\n",
    "response_times = {}\n",
    "for user in users:\n",
    "    response_times[user] = df_filtered[df_filtered['username'] == user]['response_time'].values\n",
    "    # Remove values > 24 hours\n",
    "    response_times[user] = response_times[user][response_times[user] < 24]"
   ]
  },
  {
   "cell_type": "code",
   "execution_count": null,
   "metadata": {},
   "outputs": [],
   "source": [
    "# Create a plot with two columns and one row\n",
    "fig, axes = plt.subplots(nrows=1, ncols=2, figsize=(10, 5))\n",
    "\n",
    "# Each subplot is an histogram with the response times for each user. 20 bins max per subplot, number of messages is log\n",
    "for i, user in enumerate(users):\n",
    "    ax = axes[i]\n",
    "    ax.hist(response_times[user], bins=20, edgecolor='black', color=colors[i], width=0.5, log=True)\n",
    "    ax.set_title(f\"Tiempo de respuesta de {user}\", loc='center', pad=20)\n",
    "    ax.set_xlabel(\"Tiempo de respuesta (horas)\")\n",
    "    ax.set_ylabel(\"Número de mensajes\")\n",
    "    ax.grid(True, linestyle='-', which='major', color='lightgrey', alpha=0.5)\n",
    "    \n",
    "\n",
    "plt.show()\n"
   ]
  },
  {
   "attachments": {},
   "cell_type": "markdown",
   "metadata": {},
   "source": [
    "### ¿Y cuánto tardamos en las primeras 6h?"
   ]
  },
  {
   "cell_type": "code",
   "execution_count": null,
   "metadata": {},
   "outputs": [],
   "source": [
    "# Discretize function. Input interval in minutes. Output "
   ]
  },
  {
   "cell_type": "code",
   "execution_count": null,
   "metadata": {},
   "outputs": [],
   "source": [
    "# Less than 6h in minutes\n",
    "df_less_6h = df_filtered[df_filtered['response_time'] < 6].copy()\n",
    "df_less_6h['response_time'] = df_less_6h['response_time']*60\n",
    "\n",
    "# Discretize the response time in intervals of 10 minutes\n"
   ]
  },
  {
   "attachments": {},
   "cell_type": "markdown",
   "metadata": {},
   "source": [
    "## ¿Qué palabras usamos más?"
   ]
  },
  {
   "cell_type": "code",
   "execution_count": null,
   "metadata": {},
   "outputs": [],
   "source": [
    "# Wordcloud in spanish\n",
    "\n",
    "import nltk\n",
    "from nltk.corpus import stopwords"
   ]
  }
 ],
 "metadata": {
  "kernelspec": {
   "display_name": "sandbox",
   "language": "python",
   "name": "python3"
  },
  "language_info": {
   "codemirror_mode": {
    "name": "ipython",
    "version": 3
   },
   "file_extension": ".py",
   "mimetype": "text/x-python",
   "name": "python",
   "nbconvert_exporter": "python",
   "pygments_lexer": "ipython3",
   "version": "3.9.16"
  },
  "orig_nbformat": 4,
  "vscode": {
   "interpreter": {
    "hash": "d02e8c4fc94687ee3db56db7dbcc5f838844e515edc868f1c3771924e6fa6804"
   }
  }
 },
 "nbformat": 4,
 "nbformat_minor": 2
}
